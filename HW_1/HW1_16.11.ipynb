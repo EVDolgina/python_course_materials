{
 "cells": [
  {
   "cell_type": "markdown",
   "id": "ef43214b",
   "metadata": {},
   "source": [
    "# 0. Наибольший общий делитель - 1 балл\n",
    "Напишите функцию, которая на вход принимает два целых числа, а на выходе отдает их наибольших общий делитель. \n",
    "\n",
    "Пример\n",
    "\n",
    "Ввод \n",
    "\n",
    "`lcd(10,2)`\n",
    "\n",
    "Вывод\n",
    "\n",
    "`2`\n",
    "\n",
    "Пример\n",
    "\n",
    "Ввод \n",
    "\n",
    "`lcd(10,25)`\n",
    "\n",
    "Вывод\n",
    "\n",
    "`5`"
   ]
  },
  {
   "cell_type": "code",
   "execution_count": 41,
   "id": "76cbbb54",
   "metadata": {},
   "outputs": [
    {
     "name": "stdout",
     "output_type": "stream",
     "text": [
      "введите число 1  5\n",
      "введите число 2  15\n",
      "5\n"
     ]
    }
   ],
   "source": [
    "import math \n",
    "a = int(input ('введите число 1  '))\n",
    "b = int(input ('введите число 2  '))\n",
    "print (math.gcd (a, b))"
   ]
  },
  {
   "cell_type": "code",
   "execution_count": 1,
   "id": "d227561c",
   "metadata": {},
   "outputs": [
    {
     "data": {
      "text/plain": [
       "5"
      ]
     },
     "execution_count": 1,
     "metadata": {},
     "output_type": "execute_result"
    }
   ],
   "source": [
    "def gcd(x, y):\n",
    "    while y != 0:\n",
    "        (x, y) = (y, x % y)\n",
    "    return x\n",
    "gcd (10,25)"
   ]
  },
  {
   "cell_type": "code",
   "execution_count": 33,
   "id": "d02a8e3d",
   "metadata": {},
   "outputs": [
    {
     "data": {
      "text/plain": [
       "2"
      ]
     },
     "execution_count": 33,
     "metadata": {},
     "output_type": "execute_result"
    }
   ],
   "source": [
    "def gcd(a, b):\n",
    "    if (b == 0):\n",
    "        return a\n",
    "    else:\n",
    "        return gcd(b, a % b)\n",
    "gcd(10, 2)"
   ]
  },
  {
   "cell_type": "markdown",
   "id": "777171f3",
   "metadata": {},
   "source": [
    "# 1. Задачка про перевод из `camel_case`'a в `snake_case` - 1.5 балла\n",
    " Напишите функцию, которая на вход принимает строку, записанную в `CamelCase`, а переводит ее в `snake_case`.\n",
    " Подсказка: идите по строке циклом, обрабатывайте каждый символ, если символ заглавный, к обработанным ранее добавляйте нижнее подчеркивание и нынешний переводите в `lower case` \n",
    " \n",
    " Пример:\n",
    "\n",
    "**Вход**: `'camelCaseVar'`\n",
    "\n",
    "**Выход**: `'camel_сase_var'`"
   ]
  },
  {
   "cell_type": "code",
   "execution_count": 179,
   "id": "5e4c1ced",
   "metadata": {},
   "outputs": [
    {
     "name": "stdout",
     "output_type": "stream",
     "text": [
      "camel_case_var\n"
     ]
    }
   ],
   "source": [
    "def camel_to_snake(a):\n",
    "    return re.sub(\"([A-Z])\", \"_\\\\1\", a).lower().lstrip(\"_\")\n",
    "print(camel_to_snake(\"camelCaseVar\"))"
   ]
  },
  {
   "cell_type": "code",
   "execution_count": 132,
   "id": "d57e7fdd",
   "metadata": {},
   "outputs": [
    {
     "name": "stdout",
     "output_type": "stream",
     "text": [
      "camel_case_var\n"
     ]
    }
   ],
   "source": [
    "name = 'CamelCaseVar'\n",
    "name = re.sub(r'(?<!^)(?=[A-Z])', '_', name).lower()\n",
    "print(name)\n",
    "\n"
   ]
  },
  {
   "cell_type": "code",
   "execution_count": 133,
   "id": "648a7438",
   "metadata": {},
   "outputs": [
    {
     "data": {
      "text/plain": [
       "'camel_case_var'"
      ]
     },
     "execution_count": 133,
     "metadata": {},
     "output_type": "execute_result"
    }
   ],
   "source": [
    "re.sub('([A-Z]+)', r'_\\1','camelCaseVar').lower()"
   ]
  },
  {
   "cell_type": "code",
   "execution_count": null,
   "id": "b13db40d",
   "metadata": {},
   "outputs": [],
   "source": []
  },
  {
   "cell_type": "markdown",
   "id": "929847a2",
   "metadata": {},
   "source": [
    "# 2. Про Поросёнка Петра - 2 балла\n",
    "На плоскости в точке `(0,0)` стоит Поросёнок Пётр. Он умеет ходить налево, направо, вверх и вниз. Расстояние его прохода в какую-либо сторону измеряется в шагах. Когда он идет вправо, его первая координата увеличивается, когда влево - уменьшается. Когда он идет вверх, его вторая координата увеличивается, а когда вниз - уменьшается.\n",
    "С клавиатуры считывается число `N` - число ходов, которые сделает Пётр. После чего на каждом шаге спрашивается, сколько шагов и в какую сторону за этот ход Пётр сделает. Так происходит, пока Пётр не осуществит все N ходов.\n",
    "Программа должна вывести, сколько шагов Пётр должен был бы сделать, чтобы кратчайшим путем прибыть из свое начальной точки `(0,0)` в свою конечную точку. \n",
    "\n",
    "Напоминание: Пётр умеет ходить только вверх-вниз, и влево-вправо, но не по диагонали.\n",
    "\n",
    "Пример ввода:\n",
    "\n",
    "Введите N: `3`\n",
    "\n",
    "Ход 1: `Вверх 1`\n",
    "\n",
    "Ход 2: `Вниз 1`\n",
    "\n",
    "Ход 3: `Вверх 1`\n",
    "\n",
    "Пример вывода:\n",
    "`Пётр находится на расстоянии 1 от (0,0)`"
   ]
  },
  {
   "cell_type": "code",
   "execution_count": 2,
   "id": "b3231431",
   "metadata": {},
   "outputs": [
    {
     "name": "stdout",
     "output_type": "stream",
     "text": [
      "Введите N: 3\n",
      "Ход 1: Вверх 1\n",
      "Ход 2: Вниз 1\n",
      "Ход 3: Вверх 1\n",
      "Петр находится на расстоянии 1 от (0,0)\n"
     ]
    }
   ],
   "source": [
    "coord_dict = {}\n",
    " \n",
    "for move in range(int(input('Введите N: '))):\n",
    "    current_move = input(f'Ход {move + 1}: ')\n",
    "    move_direction, move_coord = current_move.split()\n",
    "    coord_dict[move_direction] = coord_dict.get(move_direction, 0) + int(move_coord)\n",
    " \n",
    "res_y = abs(coord_dict.get('Вверх', 0) - coord_dict.get('Вниз', 0))\n",
    "res_x = abs(coord_dict.get('Влево', 0) - coord_dict.get('Вправо', 0))\n",
    "print(f'Петр находится на расстоянии {res_x + res_y} от (0,0)')"
   ]
  },
  {
   "cell_type": "markdown",
   "id": "818909ca",
   "metadata": {},
   "source": [
    "# 3. Sort the keys of the dictionary from a to z.  - 0.5 балла"
   ]
  },
  {
   "cell_type": "code",
   "execution_count": 37,
   "id": "85743205",
   "metadata": {},
   "outputs": [
    {
     "name": "stdout",
     "output_type": "stream",
     "text": [
      "[('cheesecake', 4), ('chocolate', 2), ('pudding', 3), ('tiramisu', 5)]\n"
     ]
    }
   ],
   "source": [
    "d_= {\"tiramisu\":5, \"chocolate\":2, \"pudding\":3, \"cheesecake\":4}\n",
    "\n",
    "d1 = sorted(d_.items())\n",
    "print(d1)"
   ]
  },
  {
   "cell_type": "code",
   "execution_count": 38,
   "id": "1b657c46",
   "metadata": {},
   "outputs": [
    {
     "name": "stdout",
     "output_type": "stream",
     "text": [
      "cheesecake:4\n",
      "chocolate:2\n",
      "pudding:3\n",
      "tiramisu:5\n"
     ]
    }
   ],
   "source": [
    "sorted_dict = dict(sorted(d_.items(), key=lambda x: x[0].lower()) )\n",
    "\n",
    "for k,v in sorted_dict.items():\n",
    "    print('{}:{}'.format(k,v))"
   ]
  },
  {
   "cell_type": "markdown",
   "id": "77275ebf",
   "metadata": {},
   "source": [
    "# 4. Compare three values, return true only if 2 or more values are equal - 0.5 балла"
   ]
  },
  {
   "cell_type": "code",
   "execution_count": 47,
   "id": "d0893272",
   "metadata": {},
   "outputs": [
    {
     "name": "stdout",
     "output_type": "stream",
     "text": [
      "введите число 1 7\n",
      "введите число 2 5\n",
      "введите число 3 9\n",
      "False\n"
     ]
    }
   ],
   "source": [
    "a = int(input ('введите число 1 '))\n",
    "b = int(input ('введите число 2 '))\n",
    "c = int(input ('введите число 3 '))\n",
    "\n",
    "if a==b or a == c or b == c:\n",
    "    print(True)\n",
    "else: \n",
    "    print(False)\n",
    "    "
   ]
  },
  {
   "cell_type": "code",
   "execution_count": 187,
   "id": "a812f4c8",
   "metadata": {
    "scrolled": true
   },
   "outputs": [
    {
     "name": "stdout",
     "output_type": "stream",
     "text": [
      "введите число1 5\n",
      "введите число2 5\n",
      "введите число3 6\n",
      "True\n"
     ]
    }
   ],
   "source": [
    "#булевы значения\n",
    "def is_2equal(a,b,c):\n",
    "    if a==b or a == c or b == c:\n",
    "        return True\n",
    "    else: \n",
    "        return False\n",
    "\n",
    "a, b, c = int(input ('введите число1 ')), int(input ('введите число2 ')), int(input ('введите число3 '))\n",
    "if is_2equal(a,b,c):\n",
    "    print(True)\n",
    "else:\n",
    "    print(False)"
   ]
  },
  {
   "cell_type": "markdown",
   "id": "895340c0",
   "metadata": {},
   "source": [
    "# 5. Given a list with pairs, sort on the sum of pairs - 0.5 балла"
   ]
  },
  {
   "cell_type": "code",
   "execution_count": 1,
   "id": "7a8971e2",
   "metadata": {},
   "outputs": [],
   "source": [
    "x = [(3,6),(4,7),(5,9),(8,4),(3,1)]\n"
   ]
  },
  {
   "cell_type": "code",
   "execution_count": 21,
   "id": "bdb722a0",
   "metadata": {},
   "outputs": [
    {
     "name": "stdout",
     "output_type": "stream",
     "text": [
      "[(3, 1), (3, 6), (4, 7), (8, 4), (5, 9)]\n"
     ]
    }
   ],
   "source": [
    "num = [(3,6),(4,7),(5,9),(8,4),(3,1)]\n",
    "num.sort(key=sum)\n",
    "print(num)"
   ]
  },
  {
   "cell_type": "code",
   "execution_count": 6,
   "id": "3e6905db",
   "metadata": {},
   "outputs": [
    {
     "name": "stdout",
     "output_type": "stream",
     "text": [
      "[(3, 1), (3, 6), (4, 7), (8, 4), (5, 9)]\n"
     ]
    }
   ],
   "source": [
    "num = [(3,6),(4,7),(5,9),(8,4),(3,1)]\n",
    "print(sorted(num, key = lambda x:x[0] + x[1]))"
   ]
  },
  {
   "cell_type": "markdown",
   "id": "be5b7018",
   "metadata": {},
   "source": [
    "# 6. Create a function that takes a list of numbers. Return the largest number in the list. - 0.5 балла"
   ]
  },
  {
   "cell_type": "code",
   "execution_count": null,
   "id": "2ddbc7bf",
   "metadata": {},
   "outputs": [],
   "source": [
    "findLargestNum([4, 5, 1, 3]) ➞ 5\n",
    "\n",
    "findLargestNum([300, 200, 600, 150]) ➞ 600\n",
    "\n",
    "findLargestNum([1000, 1001, 857, 1]) ➞ 1001"
   ]
  },
  {
   "cell_type": "code",
   "execution_count": 39,
   "id": "a741e1e6",
   "metadata": {},
   "outputs": [
    {
     "name": "stdout",
     "output_type": "stream",
     "text": [
      "5\n",
      "600\n",
      "1001\n"
     ]
    }
   ],
   "source": [
    "num = ([4, 5, 1, 3])\n",
    "num1 = max(num)\n",
    "print( num1)\n",
    "\n",
    "num = ([300, 200, 600, 150])\n",
    "num1 = max(num)\n",
    "print( num1)\n",
    "\n",
    "num = ([1000, 1001, 857, 1])\n",
    "num1 = max(num)\n",
    "print( num1)"
   ]
  },
  {
   "cell_type": "code",
   "execution_count": 40,
   "id": "12ef2c89",
   "metadata": {},
   "outputs": [
    {
     "name": "stdout",
     "output_type": "stream",
     "text": [
      "1001\n"
     ]
    }
   ],
   "source": [
    "num = ([1000, 1001, 857, 1])\n",
    "def max_num(num):\n",
    "    return print(max(num))\n",
    "max_num(num)"
   ]
  },
  {
   "cell_type": "code",
   "execution_count": 41,
   "id": "28e5dbb8",
   "metadata": {},
   "outputs": [
    {
     "name": "stdout",
     "output_type": "stream",
     "text": [
      "600\n"
     ]
    }
   ],
   "source": [
    "num = ([300, 200, 600, 150])\n",
    "max_num(num)"
   ]
  },
  {
   "cell_type": "code",
   "execution_count": 42,
   "id": "4cd7882a",
   "metadata": {},
   "outputs": [
    {
     "name": "stdout",
     "output_type": "stream",
     "text": [
      "5\n"
     ]
    }
   ],
   "source": [
    "num = ([4, 5, 1, 3])\n",
    "max_num(num)"
   ]
  },
  {
   "cell_type": "markdown",
   "id": "17918763",
   "metadata": {},
   "source": [
    "# 7. Create a function that takes a string and returns the concatenated first and last character. - 0.5 балла"
   ]
  },
  {
   "cell_type": "code",
   "execution_count": null,
   "id": "7062bfdb",
   "metadata": {},
   "outputs": [],
   "source": [
    "repetition(\"ab\", 3) ➞ \"ababab\"\n",
    "\n",
    "repetition(\"kiwi\", 1) ➞ \"kiwi\"\n",
    "\n",
    "repetition(\"cherry\", 2) ➞ \"cherrycherry\""
   ]
  },
  {
   "cell_type": "code",
   "execution_count": 113,
   "id": "c364bdd2",
   "metadata": {},
   "outputs": [
    {
     "data": {
      "text/plain": [
       "'ababab'"
      ]
     },
     "execution_count": 113,
     "metadata": {},
     "output_type": "execute_result"
    }
   ],
   "source": [
    "(lambda x, y: x * y)(\"ab\", 3)"
   ]
  },
  {
   "cell_type": "code",
   "execution_count": 116,
   "id": "8d1c5027",
   "metadata": {},
   "outputs": [
    {
     "name": "stdout",
     "output_type": "stream",
     "text": [
      "kiwi\n",
      "cherrycherry\n"
     ]
    }
   ],
   "source": [
    "print((lambda x,y: x * y)(\"kiwi\", 1))\n",
    "print((lambda x,y: x * y)(\"cherry\", 2))\n"
   ]
  },
  {
   "cell_type": "code",
   "execution_count": 46,
   "id": "d4f15a21",
   "metadata": {},
   "outputs": [
    {
     "name": "stdout",
     "output_type": "stream",
     "text": [
      "ababab\n",
      "kiwi\n",
      "cherrycherry\n"
     ]
    }
   ],
   "source": [
    "def repetition(names,number):\n",
    "    return print(names*number)\n",
    "repetition(\"ab\", 3)\n",
    "repetition(\"kiwi\", 1)\n",
    "repetition(\"cherry\", 2)"
   ]
  },
  {
   "cell_type": "markdown",
   "id": "5c2fe48a",
   "metadata": {},
   "source": [
    "# 8. Create a function that takes a 2D list lst returns the sum of the minimum value in each row. - 0.5 балла"
   ]
  },
  {
   "cell_type": "code",
   "execution_count": null,
   "id": "c3232abb",
   "metadata": {},
   "outputs": [],
   "source": [
    "sum_minimums([\n",
    "  [1, 2, 3, 4, 5],\n",
    "  [5, 6, 7, 8, 9],\n",
    "  [20, 21, 34, 56, 100]\n",
    "] ➞ 26\n",
    "\n",
    "# minimum value of the first row is 1\n",
    "# minimum value of the second row is 5\n",
    "# minimum value of the third row is 20"
   ]
  },
  {
   "cell_type": "code",
   "execution_count": 95,
   "id": "58f689db",
   "metadata": {},
   "outputs": [
    {
     "data": {
      "text/plain": [
       "26"
      ]
     },
     "execution_count": 95,
     "metadata": {},
     "output_type": "execute_result"
    }
   ],
   "source": [
    "def sum_minimums(numbers):\n",
    "    result = 0\n",
    "    for i in numbers:\n",
    "        result += min(i)\n",
    "    return result\n",
    "sum_minimums([\n",
    "  [1, 2, 3, 4, 5],\n",
    "  [5, 6, 7, 8, 9],\n",
    "  [20, 21, 34, 56, 100]])"
   ]
  },
  {
   "cell_type": "markdown",
   "id": "88c6709f",
   "metadata": {},
   "source": [
    "# 9. Create a function to return the amount of potatoes there are in a string. - 0.5 балла"
   ]
  },
  {
   "cell_type": "code",
   "execution_count": null,
   "id": "e2610cbd",
   "metadata": {},
   "outputs": [],
   "source": [
    "potatoes(\"potato\") ➞ 1\n",
    "\n",
    "potatoes(\"potatopotato\") ➞ 2\n",
    "\n",
    "potatoes(\"potatoapple\") ➞ 1"
   ]
  },
  {
   "cell_type": "code",
   "execution_count": 51,
   "id": "37989da4",
   "metadata": {},
   "outputs": [
    {
     "name": "stdout",
     "output_type": "stream",
     "text": [
      "1\n",
      "2\n",
      "1\n"
     ]
    }
   ],
   "source": [
    "text = \"potato\"\n",
    "\n",
    "import re\n",
    "\n",
    "count = len(re.findall(\"potato\", text)) \n",
    "print(count)\n",
    "\n",
    "text1 = \"potatopotato\"\n",
    "count = len(re.findall(\"potato\", text1)) \n",
    "print(count)\n",
    "\n",
    "text2 = \"potatoapple\"\n",
    "count = len(re.findall(\"potato\", text2)) \n",
    "print(count)"
   ]
  },
  {
   "cell_type": "code",
   "execution_count": 54,
   "id": "f51df5ff",
   "metadata": {},
   "outputs": [
    {
     "data": {
      "text/plain": [
       "1"
      ]
     },
     "execution_count": 54,
     "metadata": {},
     "output_type": "execute_result"
    }
   ],
   "source": [
    "def potatoes(text):\n",
    "    count = len(re.findall(\"potato\", text))\n",
    "    return count\n",
    "potatoes(\"potato\")\n"
   ]
  },
  {
   "cell_type": "code",
   "execution_count": 195,
   "id": "2ef90a9d",
   "metadata": {},
   "outputs": [
    {
     "data": {
      "text/plain": [
       "2"
      ]
     },
     "execution_count": 195,
     "metadata": {},
     "output_type": "execute_result"
    }
   ],
   "source": [
    "potatoes(\"potatopotato\")"
   ]
  },
  {
   "cell_type": "code",
   "execution_count": 196,
   "id": "7c8ecb7f",
   "metadata": {},
   "outputs": [
    {
     "data": {
      "text/plain": [
       "1"
      ]
     },
     "execution_count": 196,
     "metadata": {},
     "output_type": "execute_result"
    }
   ],
   "source": [
    "potatoes(\"potatoapple\")"
   ]
  },
  {
   "cell_type": "code",
   "execution_count": 56,
   "id": "01d61e7a",
   "metadata": {},
   "outputs": [
    {
     "name": "stdout",
     "output_type": "stream",
     "text": [
      "1\n",
      "2\n",
      "1\n"
     ]
    }
   ],
   "source": [
    "def potato_counter(potato):\n",
    "    return potato.count('potato')\n",
    "print(potato_counter(\"potato\"))\n",
    "print(potato_counter(\"potatopotato\"))\n",
    "print(potato_counter(\"potatoapple\"))"
   ]
  },
  {
   "cell_type": "code",
   "execution_count": null,
   "id": "28c7bb15",
   "metadata": {},
   "outputs": [],
   "source": [
    "# я вырезала заголовок задания!! не знаю как вернуть. ЗАДАНИЕ 10 \n",
    "# из списка чисел надо получить то, что встречается 1 раз"
   ]
  },
  {
   "cell_type": "code",
   "execution_count": null,
   "id": "a43f80e0",
   "metadata": {},
   "outputs": [],
   "source": [
    "find_single_number([2, 2, 2, 3, 4, 4, 4]) ➞ 3\n",
    "\n",
    "find_single_number([2]) ➞ 2\n",
    "\n",
    "find_single_number([]) ➞ None\n",
    "\n",
    "find_single_number([7, 13, 3, 6, 5, 4, 4, 13, 5, 3, 6, 7, 6, 5, 3, 13, 4, 7, 13, 5, 7, 4, 3, 6, 8, 4, 3, 7, 5, 6, 13]) ➞ 8\n",
    "\n",
    "find_single_number([1, 2, 3, 6, 5, 4, 4, 2, 5, 3, 6, 1, 6, 5, 3, 2, 4, 1, 2, 5, 1, 4, 3, 6, 101, 4, 3, 1, 5, 6, 2]) ➞ 101\n"
   ]
  },
  {
   "cell_type": "code",
   "execution_count": 3,
   "id": "362287f2",
   "metadata": {},
   "outputs": [
    {
     "data": {
      "text/plain": [
       "3"
      ]
     },
     "execution_count": 3,
     "metadata": {},
     "output_type": "execute_result"
    }
   ],
   "source": [
    "from collections import Counter\n",
    "x=([2, 2, 2, 3, 4, 4, 4])\n",
    "\n",
    "[value for value,count in Counter(x).items() if count == 1 ][0]"
   ]
  },
  {
   "cell_type": "code",
   "execution_count": 4,
   "id": "e9d87ecb",
   "metadata": {},
   "outputs": [
    {
     "data": {
      "text/plain": [
       "2"
      ]
     },
     "execution_count": 4,
     "metadata": {},
     "output_type": "execute_result"
    }
   ],
   "source": [
    "x = ([2])\n",
    "[value for value,count in Counter(x).items() if count == 1 ][0]"
   ]
  },
  {
   "cell_type": "code",
   "execution_count": 5,
   "id": "cc7d6df7",
   "metadata": {},
   "outputs": [
    {
     "data": {
      "text/plain": [
       "8"
      ]
     },
     "execution_count": 5,
     "metadata": {},
     "output_type": "execute_result"
    }
   ],
   "source": [
    "x = ([7, 13, 3, 6, 5, 4, 4, 13, 5, 3, 6, 7, 6, 5, 3, 13, 4, 7, 13, 5, 7, 4, 3, 6, 8, 4, 3, 7, 5, 6, 13])\n",
    "[value for value,count in Counter(x).items() if count == 1 ][0]"
   ]
  },
  {
   "cell_type": "code",
   "execution_count": 6,
   "id": "c8f91250",
   "metadata": {},
   "outputs": [
    {
     "data": {
      "text/plain": [
       "101"
      ]
     },
     "execution_count": 6,
     "metadata": {},
     "output_type": "execute_result"
    }
   ],
   "source": [
    "x = ([1, 2, 3, 6, 5, 4, 4, 2, 5, 3, 6, 1, 6, 5, 3, 2, 4, 1, 2, 5, 1, 4, 3, 6, 101, 4, 3, 1, 5, 6, 2])\n",
    "[value for value,count in Counter(x).items() if count == 1 ][0]"
   ]
  },
  {
   "cell_type": "code",
   "execution_count": 8,
   "id": "fbcbf895",
   "metadata": {},
   "outputs": [
    {
     "name": "stdout",
     "output_type": "stream",
     "text": [
      "8\n"
     ]
    }
   ],
   "source": [
    "arr = ([7, 13, 3, 6, 5, 4, 4, 13, 5, 3, 6, 7, 6, 5, 3, 13, 4, 7, 13, 5, 7, 4, 3, 6, 8, 4, 3, 7, 5, 6, 13])\n",
    "\n",
    "def unique_num(arr):\n",
    "    uni=[]\n",
    "    if len(arr) == 0:\n",
    "        return None\n",
    "    elif len(arr) == 1:\n",
    "        return arr[0]\n",
    "    else:\n",
    "        for i in arr:\n",
    "            if i not in uni:\n",
    "                uni.append(i)\n",
    "            elif i in uni:\n",
    "                uni[:] = filter(lambda x: x != i, uni)\n",
    "        return uni[0]\n",
    "print(unique_num(arr))     "
   ]
  },
  {
   "cell_type": "code",
   "execution_count": 11,
   "id": "0de44455",
   "metadata": {},
   "outputs": [
    {
     "name": "stdout",
     "output_type": "stream",
     "text": [
      "101\n"
     ]
    }
   ],
   "source": [
    "arr = ([1, 2, 3, 6, 5, 4, 4, 2, 5, 3, 6, 1, 6, 5, 3, 2, 4, 1, 2, 5, 1, 4, 3, 6, 101, 4, 3, 1, 5, 6, 2])\n",
    "def unique_num(arr):\n",
    "    uni=[]\n",
    "    if len(arr) == 0:\n",
    "        return None\n",
    "    elif len(arr) == 1:\n",
    "        return arr[0]\n",
    "    else:\n",
    "        for i in arr:\n",
    "            if i not in uni:\n",
    "                uni.append(i)\n",
    "            elif i in uni:\n",
    "                uni[:] = filter(lambda x: x != i, uni)\n",
    "        return uni[0]\n",
    "print(unique_num(arr))     "
   ]
  },
  {
   "cell_type": "code",
   "execution_count": 12,
   "id": "3d9c3ae1",
   "metadata": {},
   "outputs": [
    {
     "name": "stdout",
     "output_type": "stream",
     "text": [
      "None\n"
     ]
    }
   ],
   "source": [
    "arr = ([])\n",
    "def unique_num(arr):\n",
    "    uni=[]\n",
    "    if len(arr) == 0:\n",
    "        return None\n",
    "    elif len(arr) == 1:\n",
    "        return arr[0]\n",
    "    else:\n",
    "        for i in arr:\n",
    "            if i not in uni:\n",
    "                uni.append(i)\n",
    "            elif i in uni:\n",
    "                uni[:] = filter(lambda x: x != i, uni)\n",
    "        return uni[0]\n",
    "print(unique_num(arr))    "
   ]
  },
  {
   "cell_type": "code",
   "execution_count": 13,
   "id": "bc12eeb2",
   "metadata": {},
   "outputs": [
    {
     "name": "stdout",
     "output_type": "stream",
     "text": [
      "2\n"
     ]
    }
   ],
   "source": [
    "arr = ([2])\n",
    "\n",
    "def unique_num(arr):\n",
    "    uni=[]\n",
    "    if len(arr) == 0:\n",
    "        return None\n",
    "    elif len(arr) == 1:\n",
    "        return arr[0]\n",
    "    else:\n",
    "        for i in arr:\n",
    "            if i not in uni:\n",
    "                uni.append(i)\n",
    "            elif i in uni:\n",
    "                uni[:] = filter(lambda x: x != i, uni)\n",
    "        return uni[0]\n",
    "print(unique_num(arr))    "
   ]
  },
  {
   "cell_type": "code",
   "execution_count": null,
   "id": "7c637085",
   "metadata": {},
   "outputs": [],
   "source": []
  },
  {
   "cell_type": "markdown",
   "id": "0313ea52",
   "metadata": {},
   "source": [
    "# 11. Given a letter and a list of words, return whether the letter does not appear in any of the words. - 0.5 балла"
   ]
  },
  {
   "cell_type": "code",
   "execution_count": null,
   "id": "0cb649a5",
   "metadata": {},
   "outputs": [],
   "source": [
    "forbidden_letter(\"r\", [\"rock\", \"paper\", \"scissors\"]) ➞ False\n",
    "\n",
    "forbidden_letter(\"a\", [\"spoon\", \"fork\", \"knife\"]) ➞ True\n",
    "\n",
    "forbidden_letter(\"m\", []) ➞ True"
   ]
  },
  {
   "cell_type": "code",
   "execution_count": 5,
   "id": "c2d90432",
   "metadata": {},
   "outputs": [],
   "source": [
    "def plist(lst, n):\n",
    "    for each in lst:\n",
    "        if isinstance(each, list):\n",
    "            plist(each, n)\n",
    "        if any(n in each_letter for each_letter in each):\n",
    "            return False\n",
    "    else:\n",
    "        return True \n"
   ]
  },
  {
   "cell_type": "code",
   "execution_count": 6,
   "id": "95487244",
   "metadata": {},
   "outputs": [
    {
     "data": {
      "text/plain": [
       "False"
      ]
     },
     "execution_count": 6,
     "metadata": {},
     "output_type": "execute_result"
    }
   ],
   "source": [
    "lst = [\"rock\", \"paper\", \"scissors\"]\n",
    "plist(lst, 'r')"
   ]
  },
  {
   "cell_type": "code",
   "execution_count": 7,
   "id": "2200f31d",
   "metadata": {},
   "outputs": [
    {
     "data": {
      "text/plain": [
       "True"
      ]
     },
     "execution_count": 7,
     "metadata": {},
     "output_type": "execute_result"
    }
   ],
   "source": [
    "lst = []\n",
    "plist(lst, 'm')"
   ]
  },
  {
   "cell_type": "code",
   "execution_count": 8,
   "id": "9179e7ad",
   "metadata": {},
   "outputs": [
    {
     "data": {
      "text/plain": [
       "True"
      ]
     },
     "execution_count": 8,
     "metadata": {},
     "output_type": "execute_result"
    }
   ],
   "source": [
    "lst = [\"spoon\", \"fork\", \"knife\"]\n",
    "plist(lst, 'a')"
   ]
  },
  {
   "cell_type": "markdown",
   "id": "0a7ef5b5",
   "metadata": {},
   "source": [
    "# 12.  Define a function which create a Pattern like this one.  - 2 балла"
   ]
  },
  {
   "cell_type": "code",
   "execution_count": 21,
   "id": "7617ebb7",
   "metadata": {},
   "outputs": [
    {
     "ename": "SyntaxError",
     "evalue": "invalid syntax (1308250200.py, line 2)",
     "output_type": "error",
     "traceback": [
      "\u001b[1;36m  File \u001b[1;32m\"C:\\Users\\ЕКАТЕРИНА\\AppData\\Local\\Temp\\ipykernel_2848\\1308250200.py\"\u001b[1;36m, line \u001b[1;32m2\u001b[0m\n\u001b[1;33m    Pattern:\u001b[0m\n\u001b[1;37m            ^\u001b[0m\n\u001b[1;31mSyntaxError\u001b[0m\u001b[1;31m:\u001b[0m invalid syntax\n"
     ]
    }
   ],
   "source": [
    "Input: 4\n",
    "Pattern:\n",
    "\n",
    " 01234\n",
    "  | |     0\n",
    " -----    1\n",
    "  | |     2\n",
    " -----    3\n",
    "  | |     4"
   ]
  },
  {
   "cell_type": "code",
   "execution_count": 22,
   "id": "5d3b0cdd",
   "metadata": {},
   "outputs": [
    {
     "name": "stdout",
     "output_type": "stream",
     "text": [
      "4\n",
      "01234\n",
      " | |     0\n",
      "-----    1\n",
      " | |     2\n",
      "-----    3\n",
      " | |     4\n",
      "\n"
     ]
    }
   ],
   "source": [
    "s = int(input())\n",
    "f = ''\n",
    "for i in range(s+1):\n",
    "    f += str(i)\n",
    "def pattern(x):\n",
    "    f1 = ''\n",
    "    for i in range(len(f)):\n",
    "        if i % 2 == 0:\n",
    "            f1 += ' | |     ' + f[i] + '\\n'\n",
    "        else:\n",
    "            f1 += '-----    ' + f[i] + '\\n'\n",
    "    return f1\n",
    " \n",
    "print(f + \"\\n\" + pattern(s))"
   ]
  },
  {
   "cell_type": "markdown",
   "id": "0d5edcd1",
   "metadata": {},
   "source": [
    "# 13. Create a function that takes three numbers as arguments and returns True if it's a triangle and False if not.  - 0.5 балла"
   ]
  },
  {
   "cell_type": "code",
   "execution_count": null,
   "id": "d867302c",
   "metadata": {},
   "outputs": [],
   "source": [
    "is_triangle(2, 3, 4) ➞ True\n",
    "\n",
    "is_triangle(3, 4, 5) ➞ True\n",
    "\n",
    "is_triangle(4, 3, 8) ➞ False"
   ]
  },
  {
   "cell_type": "code",
   "execution_count": 12,
   "id": "7ed0c8f4",
   "metadata": {},
   "outputs": [
    {
     "name": "stdout",
     "output_type": "stream",
     "text": [
      "True\n",
      "True\n",
      "False\n"
     ]
    }
   ],
   "source": [
    "# длина любой из сторон меньше либо равна сумме двух других сторон\n",
    "# a<=b+c b<=c+a c<=a+b\n",
    "def is_triangle(a,b,c):\n",
    "    if a<=b+c and b<=c+a and c<=a+b:\n",
    "        return True\n",
    "    else:\n",
    "        return False\n",
    "print(is_triangle(2, 3, 4))\n",
    "print(is_triangle(3, 4, 5))\n",
    "print(is_triangle(4, 3, 8))\n"
   ]
  },
  {
   "cell_type": "markdown",
   "id": "2bdfb66e",
   "metadata": {},
   "source": [
    "# 14. Create a \"Code\" Generator that takes text as input and replaces some letter with another letter, and outputs the \"encoded\" message. Create funcs to encode and decode messages"
   ]
  },
  {
   "cell_type": "code",
   "execution_count": null,
   "id": "0caf2b35",
   "metadata": {},
   "outputs": [],
   "source": [
    "replacement = {\"a\": \"b\", \"d\": \"1\" ......}"
   ]
  },
  {
   "cell_type": "code",
   "execution_count": 20,
   "id": "24f711b9",
   "metadata": {},
   "outputs": [
    {
     "name": "stdout",
     "output_type": "stream",
     "text": [
      "karamba\n",
      "pfwfrgf karamba\n"
     ]
    }
   ],
   "source": [
    "A = {\n",
    "   'a': 'f',\n",
    "   'b': 'g',\n",
    "   'c': 'h',\n",
    "   'd': 'i',\n",
    "   'e': 'j',\n",
    "   'f': 'k',\n",
    "   'g': 'l',\n",
    "   'h': 'm',\n",
    "   'i': 'n',\n",
    "   'j': 'o',\n",
    "   'k': 'p',\n",
    "   'l': 'q',\n",
    "   'm': 'r',\n",
    "   'n': 's',\n",
    "   'o': 't',\n",
    "   'p': 'u',\n",
    "   'q': 'v',\n",
    "   'r': 'w', \n",
    "   's': 'x',\n",
    "   't': 'y',\n",
    "   'u': 'z',\n",
    "   'v': 'a',\n",
    "   'w': 'b',\n",
    "   'x': 'c',\n",
    "   'y': 'd',\n",
    "   'z': 'e',\n",
    "}\n",
    " \n",
    "B = {\n",
    "   'f': 'a',\n",
    "   'g': 'b',\n",
    "   'h': 'c',\n",
    "   'i': 'd',\n",
    "   'j': 'e',\n",
    "   'k': 'f',\n",
    "   'l': 'g',\n",
    "   'm': 'h',\n",
    "   'n': 'i',\n",
    "   'o': 'j',\n",
    "   'p': 'k',\n",
    "   'q': 'l',\n",
    "   'r': 'm',\n",
    "   's': 'n',\n",
    "   't': 'o',\n",
    "   'u': 'p',\n",
    "   'v': 'q',\n",
    "   'w': 'r',\n",
    "   'x': 's',\n",
    "   'y': 't',\n",
    "   'z': 'u',\n",
    "   'a': 'v',\n",
    "   'b': 'w',\n",
    "   'c': 'x',\n",
    "   'd' : 'y',\n",
    "    'e' : 'z',\n",
    "}\n",
    " \n",
    "s = input()\n",
    " \n",
    "def encode(x):\n",
    "    s1 = ''\n",
    "    for i in x:\n",
    "        first = A[i]\n",
    "        s1 += first\n",
    "    return s1\n",
    "s1 = encode(s)\n",
    "def decode(x):\n",
    "    s1 = ''\n",
    "    for i in x:\n",
    "        first = B[i]\n",
    "        s1 += first\n",
    "    return s1\n",
    "print(encode(s), decode(s1))"
   ]
  },
  {
   "cell_type": "code",
   "execution_count": null,
   "id": "68a77c41",
   "metadata": {},
   "outputs": [],
   "source": []
  }
 ],
 "metadata": {
  "kernelspec": {
   "display_name": "Python 3 (ipykernel)",
   "language": "python",
   "name": "python3"
  },
  "language_info": {
   "codemirror_mode": {
    "name": "ipython",
    "version": 3
   },
   "file_extension": ".py",
   "mimetype": "text/x-python",
   "name": "python",
   "nbconvert_exporter": "python",
   "pygments_lexer": "ipython3",
   "version": "3.9.13"
  }
 },
 "nbformat": 4,
 "nbformat_minor": 5
}
